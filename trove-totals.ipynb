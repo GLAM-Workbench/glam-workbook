{
 "cells": [
  {
   "cell_type": "markdown",
   "id": "77ef28ed-aef2-44af-a297-9c59f64ff5d0",
   "metadata": {},
   "source": [
    "# Fuzzy searching in Trove"
   ]
  },
  {
   "cell_type": "code",
   "execution_count": 20,
   "id": "706bafb0-0892-47eb-90af-a2ec4a921c40",
   "metadata": {},
   "outputs": [
    {
     "data": {
      "text/plain": [
       "RendererRegistry.enable('html')"
      ]
     },
     "execution_count": 20,
     "metadata": {},
     "output_type": "execute_result"
    }
   ],
   "source": [
    "import requests\n",
    "import os\n",
    "from IPython.display import Markdown as md\n",
    "from IPython.display import display\n",
    "import altair as alt\n",
    "import pandas as pd\n",
    "alt.renderers.enable('html')"
   ]
  },
  {
   "cell_type": "code",
   "execution_count": 21,
   "id": "55bbdd91-1737-4765-bc64-c901b2a013c8",
   "metadata": {},
   "outputs": [],
   "source": [
    "%%capture\n",
    "# Load variables from the .env file if it exists\n",
    "# Use %%capture to suppress messages\n",
    "%load_ext dotenv\n",
    "%dotenv\n",
    "\n",
    "# Insert your Trove API key\n",
    "API_KEY = \"YOUR API KEY\"\n",
    "\n",
    "# Use api key value from environment variables if it is available\n",
    "if os.getenv(\"TROVE_API_KEY\"):\n",
    "    API_KEY = os.getenv(\"TROVE_API_KEY\")"
   ]
  },
  {
   "cell_type": "code",
   "execution_count": 22,
   "id": "9bb8e38b-ed6a-4291-adff-5615352a026a",
   "metadata": {},
   "outputs": [],
   "source": [
    "params= {\n",
    "    'zone': 'newspaper',\n",
    "    'key': API_KEY,\n",
    "    'encoding': 'json',\n",
    "    'q': ' '\n",
    "}\n",
    "response = requests.get('https://api.trove.nla.gov.au/v2/result', params=params)\n",
    "data = response.json()\n",
    "total = f'{int(data[\"response\"][\"zone\"][0][\"records\"][\"total\"]):,}'"
   ]
  },
  {
   "cell_type": "code",
   "execution_count": 23,
   "id": "9791ff40-e27b-45db-bbdc-db190b87ef5e",
   "metadata": {},
   "outputs": [
    {
     "data": {
      "text/markdown": [
       "There are 234,723,483 newspaper articles in Trove."
      ],
      "text/plain": [
       "<IPython.core.display.Markdown object>"
      ]
     },
     "execution_count": 23,
     "metadata": {},
     "output_type": "execute_result"
    }
   ],
   "source": [
    "md(f'There are {total} newspaper articles in Trove.')"
   ]
  },
  {
   "cell_type": "markdown",
   "id": "9480dab6-b4c7-4b7a-bf6e-6280bfe425df",
   "metadata": {},
   "source": [
    "This is something[^1]\n",
    "\n",
    "[^1]: footnote"
   ]
  },
  {
   "cell_type": "markdown",
   "id": "f9a98bef-500b-4bf0-aa37-aa224fa0d6f5",
   "metadata": {},
   "source": [
    "* [ ] thing"
   ]
  },
  {
   "cell_type": "code",
   "execution_count": 24,
   "id": "15506010-5f36-44f0-b097-4acb85fddf3d",
   "metadata": {},
   "outputs": [],
   "source": [
    "df = pd.DataFrame([{'animal': 'cat', 'count': 4}, {'animal': 'dog', 'count': 7}, {'animal': 'fish', 'count': 2}])"
   ]
  },
  {
   "cell_type": "code",
   "execution_count": 25,
   "id": "7247c304-01fd-4588-b995-70cecfbddd46",
   "metadata": {},
   "outputs": [
    {
     "data": {
      "text/html": [
       "<div>\n",
       "<style scoped>\n",
       "    .dataframe tbody tr th:only-of-type {\n",
       "        vertical-align: middle;\n",
       "    }\n",
       "\n",
       "    .dataframe tbody tr th {\n",
       "        vertical-align: top;\n",
       "    }\n",
       "\n",
       "    .dataframe thead th {\n",
       "        text-align: right;\n",
       "    }\n",
       "</style>\n",
       "<table border=\"1\" class=\"dataframe\">\n",
       "  <thead>\n",
       "    <tr style=\"text-align: right;\">\n",
       "      <th></th>\n",
       "      <th>animal</th>\n",
       "      <th>count</th>\n",
       "    </tr>\n",
       "  </thead>\n",
       "  <tbody>\n",
       "    <tr>\n",
       "      <th>0</th>\n",
       "      <td>cat</td>\n",
       "      <td>4</td>\n",
       "    </tr>\n",
       "    <tr>\n",
       "      <th>1</th>\n",
       "      <td>dog</td>\n",
       "      <td>7</td>\n",
       "    </tr>\n",
       "    <tr>\n",
       "      <th>2</th>\n",
       "      <td>fish</td>\n",
       "      <td>2</td>\n",
       "    </tr>\n",
       "  </tbody>\n",
       "</table>\n",
       "</div>"
      ],
      "text/plain": [
       "  animal  count\n",
       "0    cat      4\n",
       "1    dog      7\n",
       "2   fish      2"
      ]
     },
     "execution_count": 25,
     "metadata": {},
     "output_type": "execute_result"
    }
   ],
   "source": [
    "df"
   ]
  },
  {
   "cell_type": "code",
   "execution_count": 26,
   "id": "521ed115-9620-4a3b-b893-fbdcff22273b",
   "metadata": {},
   "outputs": [],
   "source": [
    "chart = alt.Chart(df).mark_bar().encode(\n",
    "    x='animal:N',\n",
    "    y='count:Q',\n",
    "    tooltip=['animal:N', 'count:Q']\n",
    ")"
   ]
  },
  {
   "cell_type": "code",
   "execution_count": 27,
   "id": "df26b704-2cd5-4e0d-89c3-4b0ac5158709",
   "metadata": {},
   "outputs": [
    {
     "data": {
      "text/html": [
       "\n",
       "<div id=\"altair-viz-a662a698f7c84da9999f00b6173562b7\"></div>\n",
       "<script type=\"text/javascript\">\n",
       "  var VEGA_DEBUG = (typeof VEGA_DEBUG == \"undefined\") ? {} : VEGA_DEBUG;\n",
       "  (function(spec, embedOpt){\n",
       "    let outputDiv = document.currentScript.previousElementSibling;\n",
       "    if (outputDiv.id !== \"altair-viz-a662a698f7c84da9999f00b6173562b7\") {\n",
       "      outputDiv = document.getElementById(\"altair-viz-a662a698f7c84da9999f00b6173562b7\");\n",
       "    }\n",
       "    const paths = {\n",
       "      \"vega\": \"https://cdn.jsdelivr.net/npm//vega@5?noext\",\n",
       "      \"vega-lib\": \"https://cdn.jsdelivr.net/npm//vega-lib?noext\",\n",
       "      \"vega-lite\": \"https://cdn.jsdelivr.net/npm//vega-lite@4.17.0?noext\",\n",
       "      \"vega-embed\": \"https://cdn.jsdelivr.net/npm//vega-embed@6?noext\",\n",
       "    };\n",
       "\n",
       "    function maybeLoadScript(lib, version) {\n",
       "      var key = `${lib.replace(\"-\", \"\")}_version`;\n",
       "      return (VEGA_DEBUG[key] == version) ?\n",
       "        Promise.resolve(paths[lib]) :\n",
       "        new Promise(function(resolve, reject) {\n",
       "          var s = document.createElement('script');\n",
       "          document.getElementsByTagName(\"head\")[0].appendChild(s);\n",
       "          s.async = true;\n",
       "          s.onload = () => {\n",
       "            VEGA_DEBUG[key] = version;\n",
       "            return resolve(paths[lib]);\n",
       "          };\n",
       "          s.onerror = () => reject(`Error loading script: ${paths[lib]}`);\n",
       "          s.src = paths[lib];\n",
       "        });\n",
       "    }\n",
       "\n",
       "    function showError(err) {\n",
       "      outputDiv.innerHTML = `<div class=\"error\" style=\"color:red;\">${err}</div>`;\n",
       "      throw err;\n",
       "    }\n",
       "\n",
       "    function displayChart(vegaEmbed) {\n",
       "      vegaEmbed(outputDiv, spec, embedOpt)\n",
       "        .catch(err => showError(`Javascript Error: ${err.message}<br>This usually means there's a typo in your chart specification. See the javascript console for the full traceback.`));\n",
       "    }\n",
       "\n",
       "    if(typeof define === \"function\" && define.amd) {\n",
       "      requirejs.config({paths});\n",
       "      require([\"vega-embed\"], displayChart, err => showError(`Error loading script: ${err.message}`));\n",
       "    } else {\n",
       "      maybeLoadScript(\"vega\", \"5\")\n",
       "        .then(() => maybeLoadScript(\"vega-lite\", \"4.17.0\"))\n",
       "        .then(() => maybeLoadScript(\"vega-embed\", \"6\"))\n",
       "        .catch(showError)\n",
       "        .then(() => displayChart(vegaEmbed));\n",
       "    }\n",
       "  })({\"config\": {\"view\": {\"continuousWidth\": 400, \"continuousHeight\": 300}}, \"data\": {\"name\": \"data-f0074822896a0fa0632e42099f20269c\"}, \"mark\": \"bar\", \"encoding\": {\"tooltip\": [{\"field\": \"animal\", \"type\": \"nominal\"}, {\"field\": \"count\", \"type\": \"quantitative\"}], \"x\": {\"field\": \"animal\", \"type\": \"nominal\"}, \"y\": {\"field\": \"count\", \"type\": \"quantitative\"}}, \"$schema\": \"https://vega.github.io/schema/vega-lite/v4.17.0.json\", \"datasets\": {\"data-f0074822896a0fa0632e42099f20269c\": [{\"animal\": \"cat\", \"count\": 4}, {\"animal\": \"dog\", \"count\": 7}, {\"animal\": \"fish\", \"count\": 2}]}}, {\"mode\": \"vega-lite\"});\n",
       "</script>"
      ],
      "text/plain": [
       "alt.Chart(...)"
      ]
     },
     "metadata": {},
     "output_type": "display_data"
    }
   ],
   "source": [
    "display(chart)"
   ]
  },
  {
   "cell_type": "markdown",
   "id": "8d44c15c-259d-40f0-8930-abbb97ab2fac",
   "metadata": {},
   "source": [
    "```{admonition} Title\n",
    "text\n",
    "```"
   ]
  },
  {
   "cell_type": "code",
   "execution_count": null,
   "id": "5491cf6a-d66f-47d4-835e-8398446475f7",
   "metadata": {},
   "outputs": [],
   "source": []
  }
 ],
 "metadata": {
  "kernelspec": {
   "display_name": "Python 3 (ipykernel)",
   "language": "python",
   "name": "python3"
  },
  "language_info": {
   "codemirror_mode": {
    "name": "ipython",
    "version": 3
   },
   "file_extension": ".py",
   "mimetype": "text/x-python",
   "name": "python",
   "nbconvert_exporter": "python",
   "pygments_lexer": "ipython3",
   "version": "3.8.12"
  }
 },
 "nbformat": 4,
 "nbformat_minor": 5
}
